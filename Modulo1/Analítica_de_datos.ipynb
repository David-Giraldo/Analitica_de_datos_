{
  "nbformat": 4,
  "nbformat_minor": 0,
  "metadata": {
    "colab": {
      "name": "Analítica de datos.ipynb",
      "provenance": [],
      "authorship_tag": "ABX9TyPwuAul4xL1KfyJ45AjS9uB",
      "include_colab_link": true
    },
    "kernelspec": {
      "name": "python3",
      "display_name": "Python 3"
    }
  },
  "cells": [
    {
      "cell_type": "markdown",
      "metadata": {
        "id": "view-in-github",
        "colab_type": "text"
      },
      "source": [
        "<a href=\"https://colab.research.google.com/github/David-Giraldo/Analitica_de_datos_/blob/main/Modulo1/Anal%C3%ADtica_de_datos.ipynb\" target=\"_parent\"><img src=\"https://colab.research.google.com/assets/colab-badge.svg\" alt=\"Open In Colab\"/></a>"
      ]
    },
    {
      "cell_type": "markdown",
      "metadata": {
        "id": "aUHZPjAZy1A1"
      },
      "source": [
        "# Ejemplo básico aprendizaje estadístico\r\n",
        "\r\n",
        "## Regresión por mínimos cuadrados sobre ruido blanco Gaussiano\r\n",
        "\r\n",
        "$$ x=x^*+ \\eta $$\r\n",
        "\r\n",
        "$$ \\eta \\sim \\mathcal{N}(\\eta | \\mu_\\eta, \\sigma_\\eta )$$\r\n",
        "\r\n",
        "$$ \\mathcal{N}(\\eta | \\mu_\\eta, \\sigma_\\eta ) = \\frac{1}{\\sqrt{2\\pi\\sigma^2_\\eta}}\\exp\\left(\\frac{-\\|\\eta-\\mu_\\eta\\|^2}{2\\sigma^2_\\eta}\\right)$$\r\n",
        "\r\n",
        "# Desde análisis de datos:\r\n",
        "\r\n",
        "$$y=f(x)+\\eta$$\r\n",
        "$$y-f(x)=\\eta \\sim \\mathcal{N}(\\eta | \\mu_\\eta, \\sigma_\\eta )$$\r\n",
        "$$y-f(x)=\\eta \\sim \\mathcal{N}(y-f(x) | \\mu_\\eta, \\sigma_\\eta )$$\r\n",
        "$$= \\frac{1}{\\sqrt{2\\pi\\sigma^2_\\eta}}\\exp\\left(\\frac{-\\|(y-f(x))-\\mu_\\eta\\|^2}{2\\sigma^2_\\eta}\\right)$$"
      ]
    },
    {
      "cell_type": "code",
      "metadata": {
        "colab": {
          "base_uri": "https://localhost:8080/",
          "height": 265
        },
        "id": "AiOSh-4nyxN1",
        "outputId": "956f9f33-18a2-4af7-a15e-5c95b88243b6"
      },
      "source": [
        "import numpy as np\r\n",
        "import matplotlib.pyplot as plt\r\n",
        "\r\n",
        "xi=-5\r\n",
        "xf=10\r\n",
        "N=100  #instancias\r\n",
        "x=np.linspace(xi,xf,N)\r\n",
        "x=x.reshape(-1,1)\r\n",
        "x.shape\r\n",
        "eta=np.random.randn(N).reshape(-1,1)\r\n",
        "eta.shape\r\n",
        "y=x+eta\r\n",
        "\r\n",
        "plt.plot(x,y)\r\n",
        "plt.grid(True)\r\n",
        "plt.show()"
      ],
      "execution_count": null,
      "outputs": [
        {
          "output_type": "display_data",
          "data": {
            "image/png": "[encoded data removed]",
            "text/plain": [
              "<Figure size 432x288 with 1 Axes>"
            ]
          },
          "metadata": {
            "tags": [],
            "needs_background": "light"
          }
        }
      ]
    },
    {
      "cell_type": "markdown",
      "metadata": {
        "id": "eRd4nVT3koLT"
      },
      "source": [
        "# Ejercicio 1 (Solución propuesta)"
      ]
    },
    {
      "cell_type": "code",
      "metadata": {
        "colab": {
          "base_uri": "https://localhost:8080/"
        },
        "id": "YmjusmtpXp_H",
        "outputId": "8cc9e15d-aa93-46cb-bb9e-96ca3df39240"
      },
      "source": [
        "import numpy as np\r\n",
        "import matplotlib.pyplot as plt\r\n",
        "\r\n",
        "xi=-5\r\n",
        "xf=10\r\n",
        "N=100  #instancias\r\n",
        "z=np.linspace(xi,xf,N)\r\n",
        "z=z.reshape(-1,1) #vector de valores x\r\n",
        "yi=np.linspace(xi,xf,N)\r\n",
        "yi=yi.reshape(-1,1) #vector de valores y\r\n",
        "vector_unos=np.ones(N).reshape(-1,1) #vector de unos\r\n",
        "eta=np.random.randn(N).reshape(-1,1) #vector ruido\r\n",
        "y=yi-eta\r\n",
        "x=np.hstack([z, vector_unos]) #Matriz (Nx2) entre vector de valores y vector de unos\r\n",
        "x_plus= np.linalg.pinv(x) #Pseudoinversa de la matriz x\r\n",
        "w_plus=x_plus.dot(y).reshape(-1,1) #valores de m y b\r\n",
        "w_plus"
      ],
      "execution_count": null,
      "outputs": [
        {
          "output_type": "execute_result",
          "data": {
            "text/plain": [
              "array([[ 1.04080347],\n",
              "       [-0.07430135]])"
            ]
          },
          "metadata": {
            "tags": []
          },
          "execution_count": 8
        }
      ]
    },
    {
      "cell_type": "code",
      "metadata": {
        "colab": {
          "base_uri": "https://localhost:8080/"
        },
        "id": "CJZft3yXrQU8",
        "outputId": "d512eb85-b378-4533-df55-78bbaa64608a"
      },
      "source": [
        "np.polyfit(x[:, 0], y, 1)"
      ],
      "execution_count": null,
      "outputs": [
        {
          "output_type": "execute_result",
          "data": {
            "text/plain": [
              "array([[ 1.04080347],\n",
              "       [-0.07430135]])"
            ]
          },
          "metadata": {
            "tags": []
          },
          "execution_count": 9
        }
      ]
    },
    {
      "cell_type": "code",
      "metadata": {
        "colab": {
          "base_uri": "https://localhost:8080/",
          "height": 265
        },
        "id": "zLcLyVS1sbkD",
        "outputId": "d5c39db5-5906-4c64-e99b-5942ceef202e"
      },
      "source": [
        "yf=x.dot(w_plus).reshape(-1,1)\r\n",
        "plt.plot(y, '*')\r\n",
        "plt.plot(yf)\r\n",
        "plt.grid(True)\r\n",
        "plt.show()"
      ],
      "execution_count": null,
      "outputs": [
        {
          "output_type": "display_data",
          "data": {
            "image/png": "[encoded data removed]",
            "text/plain": [
              "<Figure size 432x288 with 1 Axes>"
            ]
          },
          "metadata": {
            "tags": [],
            "needs_background": "light"
          }
        }
      ]
    },
    {
      "cell_type": "code",
      "metadata": {
        "colab": {
          "base_uri": "https://localhost:8080/",
          "height": 265
        },
        "id": "-WCijnRZjyeS",
        "outputId": "d7c5316c-eadc-454c-e674-906818ae28c5"
      },
      "source": [
        "yf=x.dot(w_plus).reshape(-1,1)\r\n",
        "#plt.plot(x[:, 0], y, '*')\r\n",
        "#plt.plot(x,y)\r\n",
        "plt.plot(y, '*')\r\n",
        "plt.plot(yf)\r\n",
        "#plt.xlim(0, 15)\r\n",
        "#plt.ylim(0, 15)\r\n",
        "plt.grid(True)\r\n",
        "plt.show()"
      ],
      "execution_count": null,
      "outputs": [
        {
          "output_type": "display_data",
          "data": {
            "image/png": "[encoded data removed]",
            "text/plain": [
              "<Figure size 432x288 with 1 Axes>"
            ]
          },
          "metadata": {
            "tags": [],
            "needs_background": "light"
          }
        }
      ]
    },
    {
      "cell_type": "markdown",
      "metadata": {
        "id": "tX4lw0tJm1JX"
      },
      "source": [
        "# Ejercicio 1 (Solución de clase)"
      ]
    },
    {
      "cell_type": "code",
      "metadata": {
        "colab": {
          "base_uri": "https://localhost:8080/",
          "height": 265
        },
        "id": "xBUqSPIom8A-",
        "outputId": "8579025a-92a6-4885-fe35-2a0e4ec62655"
      },
      "source": [
        "import numpy as np\r\n",
        "import matplotlib.pyplot as plt\r\n",
        "\r\n",
        "xi=-5\r\n",
        "xf=10\r\n",
        "N=100  #instancias\r\n",
        "var=0.2\r\n",
        "m=0.8\r\n",
        "b=-2\r\n",
        "x=np.linspace(xi,xf,N)\r\n",
        "x=x.reshape(-1,1)\r\n",
        "eta=np.sqrt(var)*np.random.randn(N).reshape(-1,1)\r\n",
        "\r\n",
        "X=np.c_[np.linspace(xi,xf,N).reshape(-1,1),np.ones((N,1))] #np.c concatena por columnas 2 vectores\r\n",
        "w=np.array([m,b]).reshape(-1,1) #parametros del modelo lineal m y b como vector columna 2x1\r\n",
        "y=X.dot(w) + eta\r\n",
        "yo=X.dot(w)\r\n",
        "we= np.linalg.pinv(X).dot(y).reshape(-1,1) #Pseudoinversa de la matriz x\r\n",
        "ye=X.dot(we)\r\n",
        "\r\n",
        "plt.plot(X[:,0],y, label='$y_{\\eta}$')\r\n",
        "plt.plot(X[:,0], yo,'r', label='$y_{o}$')\r\n",
        "plt.plot(X[:,0], yo,'g.', label='$y_{e}$')\r\n",
        "plt.grid(True)\r\n",
        "plt.legend()\r\n",
        "plt.show()"
      ],
      "execution_count": null,
      "outputs": [
        {
          "output_type": "display_data",
          "data": {
            "image/png": "[encoded data removed]",
            "text/plain": [
              "<Figure size 432x288 with 1 Axes>"
            ]
          },
          "metadata": {
            "tags": [],
            "needs_background": "light"
          }
        }
      ]
    },
    {
      "cell_type": "code",
      "metadata": {
        "colab": {
          "base_uri": "https://localhost:8080/"
        },
        "id": "1vSLiOpks3fw",
        "outputId": "96b324bd-22e7-4912-ea4c-42b1b7599ae7"
      },
      "source": [
        "we= np.linalg.pinv(X).dot(y).reshape(-1,1) #Pseudoinversa de la matriz x\r\n",
        "we"
      ],
      "execution_count": null,
      "outputs": [
        {
          "output_type": "execute_result",
          "data": {
            "text/plain": [
              "array([[ 0.81017194],\n",
              "       [-2.03743422]])"
            ]
          },
          "metadata": {
            "tags": []
          },
          "execution_count": 14
        }
      ]
    },
    {
      "cell_type": "markdown",
      "metadata": {
        "id": "YsvwOPRbvvrU"
      },
      "source": [
        "# Sklearn & Panda"
      ]
    },
    {
      "cell_type": "code",
      "metadata": {
        "colab": {
          "base_uri": "https://localhost:8080/"
        },
        "id": "rcWFUt2LtRGE",
        "outputId": "73c29d7d-470e-4bf2-f5dc-a90f285c4f32"
      },
      "source": [
        "from sklearn.linear_model import LinearRegression\r\n",
        "from sklearn.metrics import mean_squared_error\r\n",
        "\r\n",
        "reg= LinearRegression() #llamo ini, constructor del objeto sklearn Linear Regression\r\n",
        "reg.fit(X,y) #ajustar, entrenar el modelo -> pinv(X).dot(y)\r\n"
      ],
      "execution_count": null,
      "outputs": [
        {
          "output_type": "execute_result",
          "data": {
            "text/plain": [
              "LinearRegression(copy_X=True, fit_intercept=True, n_jobs=None, normalize=False)"
            ]
          },
          "metadata": {
            "tags": []
          },
          "execution_count": 27
        }
      ]
    },
    {
      "cell_type": "code",
      "metadata": {
        "colab": {
          "base_uri": "https://localhost:8080/"
        },
        "id": "VQ-8PQWYv5eD",
        "outputId": "7fae9a74-3c53-4283-f57a-4d678bcc1624"
      },
      "source": [
        "print(reg.coef_, reg.intercept_)"
      ],
      "execution_count": null,
      "outputs": [
        {
          "output_type": "stream",
          "text": [
            "[[0.80154155 0.        ]] [-1.97483475]\n"
          ],
          "name": "stdout"
        }
      ]
    },
    {
      "cell_type": "code",
      "metadata": {
        "colab": {
          "base_uri": "https://localhost:8080/"
        },
        "id": "94-cQNTcwMNp",
        "outputId": "27c4d6d3-b4be-45db-beb7-d7f04e2f23c9"
      },
      "source": [
        "ye=reg.predict(X) #Predecir valores nuevos, X.dot(we)\r\n",
        "yen=reg.predict(X[2].reshape(1,-1))\r\n",
        "yen"
      ],
      "execution_count": null,
      "outputs": [
        {
          "output_type": "execute_result",
          "data": {
            "text/plain": [
              "array([[-5.73965113]])"
            ]
          },
          "metadata": {
            "tags": []
          },
          "execution_count": 29
        }
      ]
    },
    {
      "cell_type": "code",
      "metadata": {
        "colab": {
          "base_uri": "https://localhost:8080/"
        },
        "id": "cPGgn6eKxDXu",
        "outputId": "cc104f38-0896-42e4-d8af-09206eceee6d"
      },
      "source": [
        "print(mean_squared_error(yo,ye))"
      ],
      "execution_count": null,
      "outputs": [
        {
          "output_type": "stream",
          "text": [
            "0.0008875671895582202\n"
          ],
          "name": "stdout"
        }
      ]
    }
  ]
}